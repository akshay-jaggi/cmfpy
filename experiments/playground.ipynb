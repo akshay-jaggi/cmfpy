{
 "cells": [
  {
   "cell_type": "code",
   "execution_count": 1,
   "metadata": {},
   "outputs": [],
   "source": [
    "import numpy as np"
   ]
  },
  {
   "cell_type": "code",
   "execution_count": 2,
   "metadata": {},
   "outputs": [],
   "source": [
    "L, N, K = 20, 100, 5\n",
    "W = np.random.rand(L, N, K)"
   ]
  },
  {
   "cell_type": "code",
   "execution_count": 17,
   "metadata": {},
   "outputs": [],
   "source": [
    "energies = np.sum(W, axis=0)\n",
    "best_factors = np.argmax(energies, axis=1)\n",
    "\n",
    "factor_sort = [x for x in sorted(zip(best_factors, range(N)))]"
   ]
  },
  {
   "cell_type": "code",
   "execution_count": 20,
   "metadata": {},
   "outputs": [
    {
     "data": {
      "text/plain": [
       "[(0, 37),\n",
       " (0, 4),\n",
       " (0, 9),\n",
       " (0, 14),\n",
       " (0, 17),\n",
       " (0, 18),\n",
       " (0, 30),\n",
       " (0, 51),\n",
       " (0, 67),\n",
       " (0, 70),\n",
       " (0, 73),\n",
       " (0, 74),\n",
       " (0, 83),\n",
       " (0, 84),\n",
       " (0, 58),\n",
       " (1, 7),\n",
       " (1, 56),\n",
       " (1, 76),\n",
       " (1, 3),\n",
       " (1, 6),\n",
       " (1, 33),\n",
       " (1, 44),\n",
       " (1, 45),\n",
       " (1, 47),\n",
       " (1, 50),\n",
       " (1, 53),\n",
       " (1, 90),\n",
       " (1, 91),\n",
       " (1, 96),\n",
       " (1, 0),\n",
       " (1, 31),\n",
       " (1, 42),\n",
       " (2, 2),\n",
       " (2, 46),\n",
       " (2, 55),\n",
       " (2, 82),\n",
       " (2, 1),\n",
       " (2, 8),\n",
       " (2, 22),\n",
       " (2, 24),\n",
       " (2, 25),\n",
       " (2, 26),\n",
       " (2, 27),\n",
       " (2, 65),\n",
       " (2, 79),\n",
       " (2, 94),\n",
       " (2, 98),\n",
       " (2, 10),\n",
       " (2, 13),\n",
       " (2, 29),\n",
       " (2, 39),\n",
       " (2, 49),\n",
       " (2, 59),\n",
       " (2, 63),\n",
       " (2, 71),\n",
       " (2, 72),\n",
       " (2, 86),\n",
       " (2, 92),\n",
       " (3, 11),\n",
       " (3, 32),\n",
       " (3, 48),\n",
       " (3, 66),\n",
       " (3, 19),\n",
       " (3, 35),\n",
       " (3, 36),\n",
       " (3, 57),\n",
       " (3, 62),\n",
       " (3, 69),\n",
       " (3, 78),\n",
       " (3, 80),\n",
       " (3, 81),\n",
       " (3, 89),\n",
       " (3, 21),\n",
       " (3, 23),\n",
       " (3, 28),\n",
       " (3, 34),\n",
       " (3, 40),\n",
       " (3, 41),\n",
       " (3, 95),\n",
       " (3, 99),\n",
       " (4, 54),\n",
       " (4, 64),\n",
       " (4, 77),\n",
       " (4, 5),\n",
       " (4, 12),\n",
       " (4, 15),\n",
       " (4, 16),\n",
       " (4, 38),\n",
       " (4, 43),\n",
       " (4, 52),\n",
       " (4, 60),\n",
       " (4, 68),\n",
       " (4, 85),\n",
       " (4, 87),\n",
       " (4, 88),\n",
       " (4, 93),\n",
       " (4, 97),\n",
       " (4, 20),\n",
       " (4, 61),\n",
       " (4, 75)]"
      ]
     },
     "execution_count": 20,
     "metadata": {},
     "output_type": "execute_result"
    }
   ],
   "source": [
    "lags = np.zeros((N, K))\n",
    "ind = np.arange(L)\n",
    "\n",
    "for k in range(K):\n",
    "    for n in range(N):\n",
    "        lags[n, k] = int(np.dot(ind, W[:, n, k]) / np.sum(W[:, n, k]))\n",
    "\n",
    "sorted(factor_sort, key = lambda x : (x[0], lags[x[1], x[0]]))"
   ]
  }
 ],
 "metadata": {
  "kernelspec": {
   "display_name": "Python 3",
   "language": "python",
   "name": "python3"
  },
  "language_info": {
   "codemirror_mode": {
    "name": "ipython",
    "version": 3
   },
   "file_extension": ".py",
   "mimetype": "text/x-python",
   "name": "python",
   "nbconvert_exporter": "python",
   "pygments_lexer": "ipython3",
   "version": "3.6.4"
  }
 },
 "nbformat": 4,
 "nbformat_minor": 2
}
